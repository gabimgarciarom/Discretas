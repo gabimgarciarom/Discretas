{
  "nbformat": 4,
  "nbformat_minor": 0,
  "metadata": {
    "colab": {
      "name": "Punto6.ipynb",
      "provenance": [],
      "authorship_tag": "ABX9TyPak5UAF9kKoyR53J2bUu/m",
      "include_colab_link": true
    },
    "kernelspec": {
      "name": "python3",
      "display_name": "Python 3"
    }
  },
  "cells": [
    {
      "cell_type": "markdown",
      "metadata": {
        "id": "view-in-github",
        "colab_type": "text"
      },
      "source": [
        "<a href=\"https://colab.research.google.com/github/gabimgarciarom/Discretas/blob/master/Punto6.ipynb\" target=\"_parent\"><img src=\"https://colab.research.google.com/assets/colab-badge.svg\" alt=\"Open In Colab\"/></a>"
      ]
    },
    {
      "cell_type": "markdown",
      "metadata": {
        "id": "JdGjCzTwIJg1",
        "colab_type": "text"
      },
      "source": [
        "# Taller ecucaciones en diferencias, punto 6\n",
        "6. Los números de Lucas están relacionado con los números de Fibonacci, y están definidos por la siguiente secuencia $L_{n+2} = L_{n+1} + L_{n}$, $L_0=2$, $L_1=1$. Escriba un programa que imprima la siguiente información. El 18-th número de Lucas, el número de Lucas más cercano a 1000, y el primer número de Lucas más grande que 100.\n",
        "\n",
        "  El polinomio carácterístico de los números de lucas sería\n",
        "\n",
        " $$L_{n}-L_{n-1}-L_{n-2} = 0$$\n",
        " $$x^{2}-x-1 = 0$$\n",
        "\n",
        " Las soluciones de este polinomio serían:\n",
        " $$x_{1}=\\frac{1+\\sqrt{5}}{2},\\:x_{2}=\\frac{1-\\sqrt{5}}{2}$$\n",
        "\n",
        "  Por lo que la solucón general sería de la siguiente manera:\n",
        " $$L_{n}= Ax_{1}^{n}+ Bx_{2}^{n}$$\n",
        " Dado los valores iniciales se tendría el siguiente sistema de ecuaciones:\n",
        "    \n",
        " $$2=A+B$$\n",
        " <br>\n",
        " $$1=A\\left(\\frac{1+\\sqrt{5}}{2}\\right)+ B\\left(\\frac{1-\\sqrt{5}}{2}\\right)$$\n",
        " \n",
        "  Las soluciones de A y B en el sistema de ecuaciones serían:\n",
        " $$B= 1,\\:A= 1$$\n",
        "  Después de hallar los valores de A y B la solución general para los números de lucas sería:\n",
        " $$L_{n}^{h}= (\\frac{1+\\sqrt{5}}{2})^{n}+ (\\frac{1-\\sqrt{5}}{2})^{n}$$\n",
        "\n",
        " Para dar respuesta la problema propuesto se crea un programa con tres funciones\n",
        "  * *hallar_ln*, cuyo parámetro es un número n. Esta calcula el enésimo número de Lucas usando la solución general de los número de lucas.\n",
        "  * *hallar_cercano*, cuyo parámetro es un número n. Esta calcula el número de Lucas más cercano. Para esto, se utilizan dos variables *mayor* y *menor* y se van calculando los números de Lucas comenzando desde cero en orden ascendente asignándole a *mayor* el número de Lucas hallado, y a *menor* el número de Lucas previo hasta que el número n se encuentre entre los valores de mayor y menor. Esta función retorna de los números *mayor* y *menor* el que más se acerque a n.\n",
        "  * *hallar_mayor*, cuyo parámetro es un número n. Esta calcula el número de Lucas inmdiatamente mayor al número n. Para esto, se utiliza la variable *valor* a la cual se le va asignando cada valor de la sucesión de Lucas comenzando desde cero en orden ascendente. Cuando el número n sea menor que el número de Lucas correspondiente, esta función retorna el número *valor*."
      ]
    },
    {
      "cell_type": "code",
      "metadata": {
        "id": "IDzBWAE4ILzg",
        "colab_type": "code",
        "colab": {
          "base_uri": "https://localhost:8080/",
          "height": 70
        },
        "outputId": "161b3906-4f43-4f0d-a23b-7df87fc35abb"
      },
      "source": [
        "import math\n",
        "def hallar_ln(n):\n",
        "    return round(((1+math.sqrt(5))/2)**n + ((1-math.sqrt(5))/2)**n)\n",
        "\n",
        "def hallar_cercano(n):\n",
        "    i=0\n",
        "    mayor=0\n",
        "    menor=0\n",
        "    while True:\n",
        "        menor=mayor\n",
        "        mayor=hallar_ln(i)\n",
        "        if menor <= n and mayor > n:\n",
        "            break\n",
        "        i += 1\n",
        "    if mayor - n > n-menor:\n",
        "        return menor\n",
        "    else:\n",
        "        return mayor\n",
        "\n",
        "def hallar_mayor(n):\n",
        "    i=0\n",
        "    valor=0\n",
        "    while True:\n",
        "        valor=hallar_ln(i)\n",
        "        if valor > n:\n",
        "            return valor\n",
        "        i += 1\n",
        "\n",
        "print(\"El 18th número de lucas: \"+ str(hallar_ln(18)))\n",
        "print(\"El número de lucas más cercano a 1000: \"+ str(hallar_cercano(1000)))\n",
        "print(\"El número de lucas inmediatamente mayor a 100: \"+ str(hallar_mayor(100)))"
      ],
      "execution_count": 3,
      "outputs": [
        {
          "output_type": "stream",
          "text": [
            "El 18th número de lucas: 5778\n",
            "El número de lucas más cercano a 1000: 843\n",
            "El número de lucas inmediatamente mayor a 100: 123\n"
          ],
          "name": "stdout"
        }
      ]
    }
  ]
}