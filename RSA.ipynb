{
  "nbformat": 4,
  "nbformat_minor": 0,
  "metadata": {
    "colab": {
      "name": "RSA.ipynb",
      "provenance": [],
      "authorship_tag": "ABX9TyNg39RlfykdsQxdRfqSTSGF",
      "include_colab_link": true
    },
    "kernelspec": {
      "name": "python3",
      "display_name": "Python 3"
    }
  },
  "cells": [
    {
      "cell_type": "markdown",
      "metadata": {
        "id": "view-in-github",
        "colab_type": "text"
      },
      "source": [
        "<a href=\"https://colab.research.google.com/github/gabimgarciarom/Discretas/blob/master/RSA.ipynb\" target=\"_parent\"><img src=\"https://colab.research.google.com/assets/colab-badge.svg\" alt=\"Open In Colab\"/></a>"
      ]
    },
    {
      "cell_type": "markdown",
      "metadata": {
        "id": "tfJhIQXXkSSh",
        "colab_type": "text"
      },
      "source": [
        "# RSA\n",
        "\n",
        "En las últimas década, con el auge de los medios digitales se ha aumentado el intercambio de información por estos medios. Sin embargo, mucha de la información que se intercambia es sensible: se puede intercambiar claves bancarias o de redes sociales o incluso información personal. Existe un riesgo de que esta informción sea interceptada por personas las cuales no tienen autorización a su acceso. Por lo anterior, fue necesario presentar un sistema que permita el intercambio información de manera que únicamente quienes estén autorizados puedan a acceder a ella.\n",
        "\n",
        "El RSA es un sistema criptográfico de clave pública inventado por Ron Rivesta, Adi Shamir y Len Adleman que provee privacidad y autenticidad de la información digtal. Este es utilizado en servidores web para varias tareas remotas en las que exista el riesgo de interceptación, por ejemplo, el log in remoto y transacciones bancarias virtuales en las que se trata información sensible.\n",
        "\n",
        "El RSA es un sistema de clave púbica, es decir, este tiene dos claves, una es pública la cual puede tener acceso cualquier persona, la otra es privada y únicamente a ella tiene acceso el propietario de la información. Al enviar el mensaje se utiliza la llave pública para encriptar el mensaje y únicamente quien tenga acceso a la llave privada , puede utilizar esta para decifrar el mensaje. A menos que se tenga acceso a la llave privada, es  muy difícil acceder a la información que el mensaje que contiene.\n",
        "\n",
        "El algoritmo funciona de la siguiente manera:\n",
        "\n",
        "Sean $p$ y $q$ dos primos grandes cada uno de tamaño de $n/2$ bits y $N=pq$ su producto de tamaño n, llamado el Modulo RSA, usualmente n siendo de 1024 bits.  sea $φ(N)=(p-1)(q-1)$ y sean dos enterros $e$ el exponente de encripatación el  y $d$ el exponente de desencriptación tal que $ed=1 (mod \\:\\:φ(N))$. En este caso la dupla $(e,N)$ es la llave pública y la dupla $(d,N)$ la llave privada.\n",
        "\n",
        "El mensaje $M$ a encriptar es un número entero, este se encripta a un entero cifrado $C$ de la siguiente manera:\n",
        "\n",
        "$$C=M^{e} (mod N) $$\n",
        "\n",
        "Para decriptar el entero cifrado $C$ se realiza el siguiente proceso\n",
        "\n",
        "$$M=C^{d} (mod N) $$\n",
        "\n",
        "con base en la anterior igualdad se puede deducir lo siguiente\n",
        "\n",
        "$$C^{d}= (M^{e})^{d}= M^{ed}=M (mod N) $$\n",
        "\n",
        "Para probar lo anterior se utiliza el pequeño teorema de Fermat en el que, si $x$ es un número primo:\n",
        "\n",
        "$$a^{x-1}= 1 (mod\\:\\:x)$$\n",
        "\n",
        "Y la tesis a probar es la siguiente:\n",
        "$$ M^{ed}=M (mod \\:\\:N) $$\n",
        "\n",
        "Primero, se comienza teniendo en cuenta la definición de $e$ y$d$\n",
        "$$ed=1 (mod \\:\\:φ(N))$$\n",
        "se puede decir que la diferencia entre $ed$ y 1 es congruente a cero módulo $φ(N))$, por lo que se tendría que:\n",
        "$$ ed-1=(p-1)(q-1)\\lambda$$\n",
        "De lo anterior, se pudede deducir lo siguiente:\n",
        "$$ M^{ed}=M^{ed-1}M=M^{(p-1)(q-1)\\lambda}M=(M^{(q-1)\\lambda})^{(p-1)}M=M(mod \\:\\:p) $$\n",
        "$$ M^{ed}=M^{ed-1}M=M^{(p-1)(q-1)\\lambda}M=(M^{(p-1)\\lambda})^{(q-1)}M=M(mod \\:\\:q) $$\n",
        "Tenemos entonces la siguiente condición:\n",
        "$$  M^{ed}=M (mod \\:\\:p) \\:\\:y\\:\\: M^{ed}=M (mod \\:\\:p) $$\n",
        "Como p y q son primos relativos, dado que cada uno es primo, por el Teorema de los restos chinos:\n",
        "$$ M^{ed}=M (mod \\:\\:pq) $$\n",
        "$$ M^{ed}=M (mod \\:\\:N) $$\n",
        "Por lo cual se cumple la tesis propuesta. Esta no necesariamente se cumple cuando p y q no son primos relativos.\n",
        "\n",
        "Se realiza un programa está compuesto que realiza el algoritmo RSA. Este contiene las siguientes funciones:\n",
        "\n",
        "En primer lugar el máximo comun divisor, en el que se utiliza el algoritmo de Euclides:"
      ]
    },
    {
      "cell_type": "code",
      "metadata": {
        "id": "QpSgTR97hF1p",
        "colab_type": "code",
        "colab": {}
      },
      "source": [
        "from random import randrange,getrandbits\n",
        "\n",
        "def mcd(num1, num2):\n",
        "    a = 0\n",
        "    while num1 % num2 != 0:\n",
        "        a = num2\n",
        "        num2 = num1 % num2\n",
        "        num1 = a\n",
        "    return num2\n",
        "\n"
      ],
      "execution_count": null,
      "outputs": []
    },
    {
      "cell_type": "markdown",
      "metadata": {
        "id": "MllJDpwekut4",
        "colab_type": "text"
      },
      "source": [
        "Luego, se ultiliza el argoritmo extendido de euclides para hallaer el inverso modular de un número módulo n. En este se afirma que \n",
        "$$mcd(num,n)=x*num+y*n$$\n",
        "La operación de inversa modular es válida únicamente para valores numéricos que sean primos relativos al módulo, por lo que se puede afirmar lo siguiente:\n",
        "$$1=x*num+y*n$$\n",
        "$$1-x*num=y*n$$\n",
        "Lo cual quiere decir que:\n",
        "$$1=x*num\\:(mod \\:\\:n)$$\n",
        "Entoces, como $x*num$ es conngruente a uno modulo n, el valor $x$ que satisfaga la primera ecuación será el inverso modular del número. "
      ]
    },
    {
      "cell_type": "code",
      "metadata": {
        "id": "ujidaCT9kvhT",
        "colab_type": "code",
        "colab": {}
      },
      "source": [
        "def inversa_modular(num, mod):\n",
        "    mxD = mcd(num, mod)\n",
        "    num=num%mod\n",
        "    r = mod\n",
        "    acum1 = 0\n",
        "    acum2 = 1\n",
        "\n",
        "    while num > mxD:\n",
        "        q = num // r\n",
        "        temp = r\n",
        "        r = num % r\n",
        "        num = temp\n",
        "        temp = acum1\n",
        "        acum1 = acum2 - q * acum1\n",
        "        acum2 = temp\n",
        "    return acum2%mod\n"
      ],
      "execution_count": null,
      "outputs": []
    },
    {
      "cell_type": "markdown",
      "metadata": {
        "id": "seIbXHlWlbS2",
        "colab_type": "text"
      },
      "source": [
        "Para generar el numero primo se utiliza la función *generar_numero_primo*, la cual genera un primo impar aleatroio de 512 bits. El proceso para generar este número es, primero usando la funciónn *impar_aleatorio*  en la que, como su nombre o menciona, se genera un número impar y a este se le realiza el test de primalida Miller_Rabin, explicado más adelante. Se retorna el número encontrado únicamente cuando este sea primo. "
      ]
    },
    {
      "cell_type": "code",
      "metadata": {
        "id": "Nc0SNplXlgUH",
        "colab_type": "code",
        "colab": {}
      },
      "source": [
        "def generar_numero_primo():\n",
        "    primo =impar_aleatorio()\n",
        "    while not test_primarlidad_miller_rabin(primo):\n",
        "       primo= impar_aleatorio()\n",
        "    return primo\n",
        "\n",
        "def impar_aleatorio ():\n",
        "    num = getrandbits(512)\n",
        "    if num%2==0:\n",
        "       return num+1\n",
        "    else:\n",
        "        return num\n"
      ],
      "execution_count": null,
      "outputs": []
    },
    {
      "cell_type": "markdown",
      "metadata": {
        "id": "M5OlS30ymCxO",
        "colab_type": "text"
      },
      "source": [
        "El test de primalidad Miller_Rabin es un test diseñado para determinar si un número es compuesto.\n",
        "\n",
        "Suponga que $n$ es un número impar. Sean $s$ y $r$ dos enteros tal que $n-1=2^sr$  y sea $a$ un entre 2 y n-2\n",
        "\n",
        "Se calcula el valor de $x$ para la siguiente expresión:\n",
        "$$x_0=a^r (mod \\:\\:n)$$\n",
        "\n",
        "Si:\n",
        " $$x_0=\\pm1 (mod \\:\\:n)$$\n",
        "\n",
        " Entonces se concluye que n es probablemente primo.\n",
        "\n",
        "De lo contrario se continua con el proceso, para los valores de $i>=1$, que se calcula de la siguiente manera:\n",
        " $$x_i=x_{i-1}^2 (mod \\:\\:n)$$\n",
        "\n",
        " Si para algún valor de $i$:\n",
        " $$x_i=-1 (mod \\:\\:n)$$\n",
        " Entonces se concluye que n es probablemente primo.\n",
        " además, si para algún valor de $i$:\n",
        " $$x_i=1 (mod \\:\\:n)$$\n",
        " Entonces se concluye que n no es primo.\n",
        "\n",
        "Cuando se concluye que el número es primo, se calcula un nuevo valor para $a$ y se realiza el procediminento nuevamente, para reducir su margen de error.\n",
        "\n",
        " Este test se puede demostrar de la siguiente manera:\n",
        "\n",
        " Primero se tiene en cuenta el pequeño teorema de Fermat en el que, en donde para nuestro número si $n$ es un número primo:\n",
        "\n",
        "$$a^{n-1}= 1 (mod\\:\\:n)$$\n",
        "$$a^{n-1}- 1=0 (mod\\:\\:n)$$\n",
        "\n",
        "Con base en el test, $n-1$ se puede expresar de la siguiente manera:\n",
        "$$a^{2^sr}- 1= (mod\\:\\:n)$$\n",
        "Teniendo en cuenta el término a la derecha, al término $x^{2^{s}r}$ se le puede factorizar el dos tantas veces como e tamaño de $s$, y por diferencia de cuadrados se puede realizar lo siguiente\n",
        "$$a^{2^sr}- 1=(a^{2^{s-1} r})^2- 1\\\\=(a^{2^{s-1} r}- 1)(a^{2^{s-1} r}+ 1)\\\\=(a^{2^{s-2} r}- 1)(a^{2^{s-2} r}+ 1)(a^{2^{s-1} r}+ 1)$$\n",
        "\n",
        "para que este término, después de ser factorizado en su totalidad este resulta siendo:\n",
        "\n",
        "$$a^{2^sr}- 1=(a^{r}- 1)(a^{r}+ 1)(a^{2r}+ 1)(a^{4r}+ 1)...(a^{2^{s-1} r}+ 1)$$\n",
        "\n",
        "Como podemos recordar $a^{2^sr}- 1$ es congruente a cero módulo $n$, lo que significa que alguno de sus factores equivale a cero, por lo que:\n",
        "$$a^r=1\\:(mod\\:\\:n) \\:\\:o\\:\\: a^{2^{i}r}=-1\\:(mod\\:\\:n)$$\n",
        "\n",
        "Sin embargo existe números compuestos, como los número de Carmichael, que también cumplen el pequeño teorema de Fermat para todo número $x$ al cual sea coprimos, por eso, para asegurarse de no encontrar un pseudoprimo, es necesario realizar varias iteraciones de este código cambiando cada vez el valor de $a$.\n"
      ]
    },
    {
      "cell_type": "code",
      "metadata": {
        "id": "DlLrn7inmFVY",
        "colab_type": "code",
        "colab": {}
      },
      "source": [
        "def test_primarlidad_miller_rabin(n):\n",
        "    if n == 2 or n == 3:\n",
        "        return True\n",
        "    if n <= 1 or n % 2 == 0:\n",
        "        return False\n",
        "    r = n-1\n",
        "    s = 0\n",
        "    while r % 2 == 0:\n",
        "        s += 1\n",
        "        r = r//2\n",
        "    cont = 1\n",
        "    h = 0\n",
        "    x = pow(2, r, n)\n",
        "    j = 0\n",
        "\n",
        "    for _ in range(128):\n",
        "        a = randrange(2, n - 1)\n",
        "        x = pow(a, r, n)\n",
        "        if x != 1 and x != n - 1:\n",
        "            j = 1\n",
        "            while j < s and x != n - 1:\n",
        "                x = pow(x, 2, n)\n",
        "                if x == 1:\n",
        "                    return False\n",
        "                j += 1\n",
        "            if x != n - 1:\n",
        "                return False\n",
        "    return True\n"
      ],
      "execution_count": null,
      "outputs": []
    },
    {
      "cell_type": "markdown",
      "metadata": {
        "id": "OrMn0DDXAv6A",
        "colab_type": "text"
      },
      "source": [
        "Se crean dos funciones *encriptar* y *desencriptar* . La primera utiliza la llave pública mientras que la otra utiliza la llave privada.\n"
      ]
    },
    {
      "cell_type": "code",
      "metadata": {
        "id": "ebXqHfXZBQQg",
        "colab_type": "code",
        "colab": {}
      },
      "source": [
        "def encriptar(value,e,n):\n",
        "    return pow(value,e,n)\n",
        "    \n",
        "def desencriptar(value,d,n):\n",
        "    return pow(value,d,n)"
      ],
      "execution_count": null,
      "outputs": []
    },
    {
      "cell_type": "markdown",
      "metadata": {
        "id": "3GWapV63mOxI",
        "colab_type": "text"
      },
      "source": [
        "Para finalizar, se generan 2 primos aleatorios $p$ y $q$, se calcula $N=p*q$ se calucla $φ(N)=(p-1)(q-1)$,\n",
        "se busca aleatoriamente un número $e$ entre 2 y $φ(N)-1$  tal que estos sean coprimos y finalmente se generan las llaver publicas y privadas.\n",
        "Se pide al ususario que ingrese un número el cual se encripta y luego se desencripta."
      ]
    },
    {
      "cell_type": "code",
      "metadata": {
        "id": "Oh1U81dWmU47",
        "colab_type": "code",
        "colab": {
          "base_uri": "https://localhost:8080/",
          "height": 90
        },
        "outputId": "164b314c-ae89-4ec7-b84a-c099f79ee383"
      },
      "source": [
        "p=generar_numero_primo()\n",
        "q=generar_numero_primo()\n",
        "n=p*q\n",
        "u=(p-1)*(q-1)\n",
        "e=0\n",
        "while mcd(e,u)!=1:\n",
        "    e=randrange(2, u-1)\n",
        "d=inversa_modular(e,u)\n",
        "\n",
        "llave_publica=(e,n)\n",
        "llave_privada=(d,n)\n",
        "\n",
        "while True:\n",
        "    try:\n",
        "        num = int(input(\"Ingrese el número a encriptar:\"))\n",
        "        break\n",
        "    except ValueError:\n",
        "        print(\"Ingrese un formato válido\")\n",
        "        \n",
        "a= (encriptar(num,llave_publica[0],llave_publica[1]))\n",
        "print (\"La llave encriptada es: \" +str(a))\n",
        "print (\"La llave desencriptada: \"+ str(desencriptar(a,llave_privada[0],llave_privada[1])))"
      ],
      "execution_count": 31,
      "outputs": [
        {
          "output_type": "stream",
          "text": [
            "Ingrese el número a encriptar:456789\n",
            "La llave encriptada es: 54648741624909488069483629785437408553409459733058392427241505333926393949302112540133868898820873531255347792432328447680422502139282253719367141098118014020663711892520493478889903997172998396551625371883500685445324108405656689934574733161618781172811886708691354339046927226958201662894342530100094463983\n",
            "La llave desencriptada: 456789\n"
          ],
          "name": "stdout"
        }
      ]
    }
  ]
}