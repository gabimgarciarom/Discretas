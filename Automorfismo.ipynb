{
  "nbformat": 4,
  "nbformat_minor": 0,
  "metadata": {
    "colab": {
      "name": "Automorfismo.ipynb",
      "provenance": [],
      "collapsed_sections": [],
      "authorship_tag": "ABX9TyMtzTJ1qiDbfIS3XMcy1PZu",
      "include_colab_link": true
    },
    "kernelspec": {
      "name": "python3",
      "display_name": "Python 3"
    }
  },
  "cells": [
    {
      "cell_type": "markdown",
      "metadata": {
        "id": "view-in-github",
        "colab_type": "text"
      },
      "source": [
        "<a href=\"https://colab.research.google.com/github/gabimgarciarom/Discretas/blob/master/Automorfismo.ipynb\" target=\"_parent\"><img src=\"https://colab.research.google.com/assets/colab-badge.svg\" alt=\"Open In Colab\"/></a>"
      ]
    },
    {
      "cell_type": "markdown",
      "metadata": {
        "id": "0DRpTK7ZXs5A",
        "colab_type": "text"
      },
      "source": [
        "**Automorfismo e isomorfirsmo de grafos**\n",
        "\n",
        " Un *grafo* es una pareja $Γ=(V,E)$ tal que\n",
        "  *  $V$ es un conjunto finito de *vértices*\n",
        "  *  $E$ es una colección de parejas no ordenadas llamadas *aristas*\n",
        "\n",
        "Se dice que dos grafos $Γ_1 = (V_1, E_1)$ ay $Γ_2 = (V_2, E_2)$ son isomorfos si existe una relación uno a uno $θ : V_1 → V_2$, tal que si $a$ y $b$ son adyacentes, entonces $θ(a)$ es adyacente a $θ(b)$. El automorfismo, por otro lado es una relación de isomorfismo de un grafo sobre si mismo. El grupo de autormorfismos de un grafo es aquel que contiene todas las permutaciones de sus vértices de tal manera que estas conserven la adyacencia.\n",
        "\n",
        "Mediante el siguiente código se presenta una manera de realizar el autofomorfismo e isomorfismo de grafos.\n",
        "\n",
        "Para modelar el grafo se utiliza una clase nodo, cada instacia del nodo representa un vértice en el grafo. Los atributos de el nodo son:\n",
        "\n",
        "*    *num,* un atributo numerico que sirve para identificar y diferenciar cada nodo \n",
        "*   *vertices_anexos*, que es un conjunto de nodos que conitiene los vertices a ese nodo"
      ]
    },
    {
      "cell_type": "code",
      "metadata": {
        "id": "o5NQin7XRX0n",
        "colab_type": "code",
        "colab": {}
      },
      "source": [
        "class Nodo:\n",
        "  def __init__(self, num):\n",
        "        self.num = num\n",
        "        self.vertices_anexos = set([])"
      ],
      "execution_count": null,
      "outputs": []
    },
    {
      "cell_type": "markdown",
      "metadata": {
        "id": "s86fSxDO3Ihd",
        "colab_type": "text"
      },
      "source": [
        "Para construir un grafo, se utliza una clase Grafo que se incializa con un número de vértices y un número de aristas. Además del número de vértices y aristas, este objeto está compuesto por una lista de nodos, en la que para cada vértice se inicializa un nodo, de manera que esta lista estaría conformada por nodos identificados por números de   $1,.., |V|$ y, además, una lista de automorfismos, inicialmente vacía, que tiene las candenas de permutaciones pertenecientes al grupo de automorfismos del grafo. Cabe añadir que las aristas se añaden despues de la creación del grafo.\n",
        "\n",
        "Para construir la lista de automorfismos se utilizan tres funciones. La primera, *generar_automorfismos*, usa una lista que contiene las cadenas con todas las posibles permutaciones para un número de vértices (la explicación de esta lista se muestra más adelante). Luego de crear esta lista, esta se recorre, y para cada una de esas cadenas se utiliza la función *permutar* para cambiar los vértices del grafo de acuerdo a la permutación correspondiente.  Finalmente se revisa si la copia creada es igual al grafo, es decir, si coserva la adyacencia de los vertices, si lo es, se añade a la lista de automorfismos.\n",
        "\n",
        "Ahondando en la funcion *permutar*, en primer lugar, se utiliza la función *crear_copia* para crear una copia del grafo, asegurándose de que, a pesar de tener los mismos valores, los nodos tengan distinta dirección de memoria, de manera que cualquier cambio en el grafo creado no afecte el grafo original. Luego de crear la copia, se recorre la cadena (esta debe representar una permutación) y se cambia el identificador *num* del nodo en la posición *i* de la lista por el número que se encuentre en la posición *i* de la cadena, realizando la permutación de sus vértices.\n",
        "\n",
        "Con esto se logra que cada instancia de nodo, ya sea se encuentre ubicado en la lista de nodos o en la lista de vértices adyacentes, cambie su valor identificador.\n",
        "\n",
        "Por otro lado, para revisar si dos grafos son isomorfos, se utiliza la función *revisar_isomorfimos*, que primero revisa si el número de vértices o aristas son los mismos y después se compara el grafo original con cada una de las permutaciones del grafo a comparar, si para alguna de estas permutaciones los grafos son iguales, entonces los grafos son isomorfos.\n",
        "\n",
        "Finalmente, varias de las operaciones anteriores revisa la igualdad de dos grafos. Para tal tarea, se ha sobreescrito la función equals, de manera que para revisar si dos grafos son iguales, se crean dos listas auxiliares, una para el grafo original y otra para el grafo con el cual se va a comparar. Por cada nodo en la lista de nodos de cada grafo, se transforma su set de nodos por un set de números, el cual es comparable: independientemente de la dirección de memoria de los nodos si sus valores numéricos son los mismos los sets serían iguales. Si estos set son iguales, significa que los grafos son iguales.\n",
        "\n",
        "Tadas las funciones descritas anteriormente se muestran acontinuación en la clase grafo:"
      ]
    },
    {
      "cell_type": "code",
      "metadata": {
        "id": "-p2w6lkI6Z1F",
        "colab_type": "code",
        "colab": {}
      },
      "source": [
        "class Grafo:\n",
        "  def __init__(self, vertices,aristas):\n",
        "        self.vertices=vertices\n",
        "        self.aristas=aristas\n",
        "        self.nodos = []\n",
        "        for index in range(1, vertices+1):\n",
        "            self.nodos.append(Nodo(index))\n",
        "        self.lista_automorfismos=[]\n",
        "  def generar_automorfismos(self):\n",
        "        permutaciones = ListaPermutacion(num_vertices)\n",
        "        for cadena in permutaciones.permutaciones:\n",
        "            temp = grafo.permutar_grafo(cadena,self)\n",
        "            if temp == grafo:\n",
        "                self.lista_automorfismos.append(cadena)\n",
        "  def crear_copia (self,grafo):\n",
        "        grafo_temp= Grafo(self.vertices,self.aristas)\n",
        "\n",
        "        for i in range(self.vertices):\n",
        "            grafo_temp.nodos[i].num=grafo.nodos[i].num\n",
        "            for j in range(len(grafo.nodos[i].vertices_anexos)):\n",
        "                grafo_temp.nodos[i].vertices_anexos.add(grafo_temp.nodos[list(grafo.nodos[i].vertices_anexos)[j].num-1])\n",
        "        return grafo_temp\n",
        "  def permutar_grafo (self, cadena, grafo):\n",
        "        index = 1\n",
        "        grafo_temp = grafo.crear_copia(grafo)\n",
        "        for letra in cadena:\n",
        "            grafo_temp.nodos[(index - 1)].num = int(letra)\n",
        "            index += 1\n",
        "        return grafo_temp\n",
        "  def revisar_isomorfismos(self,grafo):\n",
        "        if self.vertices != grafo.vertices:\n",
        "            return False\n",
        "        elif self.aristas != grafo.aristas:\n",
        "            return False\n",
        "        else:\n",
        "            permutaciones = ListaPermutacion(grafo.vertices)\n",
        "            for cadena in permutaciones.permutaciones:\n",
        "                temp = grafo.permutar_grafo(cadena, grafo)\n",
        "                if temp==self:\n",
        "                    return True\n",
        "        return False\n",
        "  def __eq__(self, o: object) -> bool:\n",
        "        lista_self=[]\n",
        "        lista_o=[]\n",
        "        for index in range(self.vertices):\n",
        "            lista_self.append(set([]))\n",
        "            lista_o.append(set([]))\n",
        "        for nodo in self.nodos:\n",
        "            for vertice in nodo.vertices_anexos:\n",
        "                lista_self[nodo.num-1].add(vertice.num)\n",
        "        for nodo in o.nodos:\n",
        "            for vertice in nodo.vertices_anexos:\n",
        "                lista_o[nodo.num-1].add(vertice.num)\n",
        "        return lista_o==lista_self"
      ],
      "execution_count": null,
      "outputs": []
    },
    {
      "cell_type": "markdown",
      "metadata": {
        "id": "Nkju_dEEaIBT",
        "colab_type": "text"
      },
      "source": [
        "Para conseguir la lista de permutaciones se utilizó la siguiente clase. En esta se pide un numero n, en este caso largo y a partir de él genera una lista de n! permutaciones representadas por cadenas de los numeros de 1 a n. Por ejemplo si n=3 la lista contendría los siguientes elementos ['123', '132', '213', '231', '321', '312']"
      ]
    },
    {
      "cell_type": "code",
      "metadata": {
        "id": "60mpOiGe7qMe",
        "colab_type": "code",
        "colab": {}
      },
      "source": [
        "class ListaPermutacion:\n",
        "  def __init__(self, largo):\n",
        "        self.valores = \"\"\n",
        "        self.permutaciones = []\n",
        "        self.largo = largo\n",
        "        for index in range(largo):\n",
        "            self.valores = self.valores + str(index + 1)\n",
        "        self.generar_matriz(self.valores, 0, largo - 1)\n",
        "\n",
        "  def cambiar_posicion(self, cadena, indice1, indice2):\n",
        "        arregloTemporal = list(cadena)\n",
        "        a = arregloTemporal[indice1];\n",
        "        arregloTemporal[indice1] = arregloTemporal[indice2]\n",
        "        arregloTemporal[indice2] = a\n",
        "        return \"\".join(arregloTemporal)\n",
        "\n",
        "  def generar_matriz(self, valores, largo, fila):\n",
        "        if largo == fila:\n",
        "            self.permutaciones.append(valores)\n",
        "        else:\n",
        "            for index in range(largo, fila + 1):\n",
        "                valores = self.cambiar_posicion(valores, largo, index)\n",
        "                self.generar_matriz(valores, largo + 1, fila);\n",
        "                valores = self.cambiar_posicion(valores, largo, index);"
      ],
      "execution_count": null,
      "outputs": []
    },
    {
      "cell_type": "markdown",
      "metadata": {
        "id": "xkgbvCW7cM4H",
        "colab_type": "text"
      },
      "source": [
        "Para finalizar, se pide al usuario el ingreso del número de aristas y vértices y se prosigue creando el grafo con estos atributos. Luego se pide el ingreso de los vértices adyacentes, estos se deben ingresar con una coma de por medio y sin espacios como se muestra a continuación:\n",
        "\n",
        "$$1,2$$\n",
        "\n",
        "teniendo en cuenta que para un número *n* de vértices sus identificadores se encuentran entre *1,...n*\n",
        "\n",
        "Para finalizar, se imprime la lista del grupo de automorfismo del grafo creado\n"
      ]
    },
    {
      "cell_type": "code",
      "metadata": {
        "id": "uxkY_HTG7sL3",
        "colab_type": "code",
        "colab": {
          "base_uri": "https://localhost:8080/",
          "height": 141
        },
        "outputId": "8f89ae63-18ad-4563-9533-0da32f4336b0"
      },
      "source": [
        "while True:\n",
        "    try:\n",
        "        num_vertices = int(input(\"Ingrese el número de vértices:\"))\n",
        "        break\n",
        "    except:\n",
        "        print(\"Ingrese un formato válido\")\n",
        "while True:\n",
        "    try:\n",
        "        num_aristas = int(input(\"Ingrese el número de aristas:\"))\n",
        "        break\n",
        "    except:\n",
        "        print(\"Ingrese un formato válido\")\n",
        "grafo = Grafo(num_vertices,num_aristas)\n",
        "\n",
        "print(\"Ingrese las aristas a continuacion, separadas por comas, sin espacios\")\n",
        "aristas_agregadas=0\n",
        "while aristas_agregadas<num_aristas:\n",
        "    try:\n",
        "      arista = input(\"\\tIngrese la arista \"+ str(aristas_agregadas + 1) + \" :\").split(\",\")\n",
        "      if len(arista)==2:\n",
        "        grafo.nodos[int(arista[0]) - 1].vertices_anexos.add(grafo.nodos[int(arista[1]) - 1])\n",
        "        grafo.nodos[int(arista[1]) - 1].vertices_anexos.add(grafo.nodos[int(arista[0]) - 1])\n",
        "        aristas_agregadas +=1\n",
        "      else:\n",
        "        print(\"\\tIngrese un formato válido\")\n",
        "    except (ValueError,IndexError):\n",
        "       print(\"\\tIngrese un formato válido\")\n",
        "\n",
        "grafo.generar_automorfismos()\n",
        "print(grafo.lista_automorfismos)"
      ],
      "execution_count": null,
      "outputs": [
        {
          "output_type": "stream",
          "text": [
            "Ingrese el número de vértices:3\n",
            "Ingrese el número de aristas:3\n",
            "Ingrese las aristas a continuacion, separadas por comas, sin espacios\n",
            "\tIngrese la arista 1 :1,2\n",
            "\tIngrese la arista 2 :2,3\n",
            "\tIngrese la arista 3 :3,1\n",
            "['123', '132', '213', '231', '321', '312']\n"
          ],
          "name": "stdout"
        }
      ]
    },
    {
      "cell_type": "markdown",
      "metadata": {
        "id": "UN0PM95vDUTU",
        "colab_type": "text"
      },
      "source": [
        "Para finalizar, de la misma forma que se ingresan los datos para la creación del grafo anterior, se ingresan los datos de un nuevo grafo, y se revisa si este es isomorfo al grafo anteriormente creado."
      ]
    },
    {
      "cell_type": "code",
      "metadata": {
        "id": "ZKni0RNO8Ycb",
        "colab_type": "code",
        "colab": {
          "base_uri": "https://localhost:8080/",
          "height": 158
        },
        "outputId": "7424f991-d9ff-4fdb-d992-e196f76e1e5f"
      },
      "source": [
        "print(\"Ingrese el grafo para revisar si es isomorfo\")\n",
        "while True:\n",
        "    try:\n",
        "        num_vertices2 = int(input(\"Ingrese el número de vértices:\"))\n",
        "        break\n",
        "    except:\n",
        "        print(\"Ingrese un formato válido\")\n",
        "while True:\n",
        "    try:\n",
        "        num_aristas2 = int(input(\"Ingrese el número de aristas:\"))\n",
        "        break\n",
        "    except:\n",
        "        print(\"Ingrese un formato válido\")\n",
        "grafo2 = Grafo(num_vertices2 ,num_aristas2 )\n",
        "\n",
        "print(\"Ingrese las aristas a continuacion, separadas por comas, sin espacios\")\n",
        "aristas_agregadas2=0\n",
        "while aristas_agregadas2<num_aristas2:\n",
        "    try:\n",
        "      arista = input(\"\\tIngrese la arista \"+ str(aristas_agregadas2 + 1) + \" :\").split(\",\")\n",
        "      if len(arista)==2:\n",
        "        grafo2.nodos[int(arista[0]) - 1].vertices_anexos.add(grafo.nodos[int(arista[1]) - 1])\n",
        "        grafo2.nodos[int(arista[1]) - 1].vertices_anexos.add(grafo.nodos[int(arista[0]) - 1])\n",
        "        aristas_agregadas2 +=1\n",
        "      else:\n",
        "        print(\"\\tIngrese un formato válido\")\n",
        "    except (ValueError,IndexError):\n",
        "       print(\"\\tIngrese un formato válido\")\n",
        "\n",
        "if grafo.revisar_isomorfismos(grafo2):\n",
        "    print(\"Los grafos son isomorfos\")\n",
        "else:\n",
        "    print(\"Los grafos no son isomorfos\")"
      ],
      "execution_count": null,
      "outputs": [
        {
          "output_type": "stream",
          "text": [
            "Ingrese el grafo para revisar si es isomorfo\n",
            "Ingrese el número de vértices:3\n",
            "Ingrese el número de aristas:3\n",
            "Ingrese las aristas a continuacion, separadas por comas, sin espacios\n",
            "\tIngrese la arista 1 :1,2\n",
            "\tIngrese la arista 2 :2,3\n",
            "\tIngrese la arista 3 :3,1\n",
            "Los grafos son isomorfos\n"
          ],
          "name": "stdout"
        }
      ]
    }
  ]
}